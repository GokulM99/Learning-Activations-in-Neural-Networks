{
 "cells": [
  {
   "cell_type": "code",
   "execution_count": 118,
   "id": "1fb93348",
   "metadata": {},
   "outputs": [],
   "source": [
    "import numpy as np\n",
    "import pandas as pd\n",
    "from sklearn.datasets import load_breast_cancer\n",
    "from sklearn.model_selection import train_test_split\n",
    "from sklearn.preprocessing import StandardScaler\n",
    "import tensorflow as tf\n",
    "from tensorflow.keras.models import Sequential\n",
    "from tensorflow.keras.layers import Dense\n",
    "from tensorflow.keras.activations import softmax\n",
    "from tensorflow.keras.losses import CategoricalCrossentropy\n",
    "from tensorflow.keras.optimizers import Adam\n",
    "from sklearn.metrics import f1_score\n",
    "import matplotlib.pyplot as plt"
   ]
  },
  {
   "cell_type": "code",
   "execution_count": 119,
   "id": "3514e33e",
   "metadata": {},
   "outputs": [],
   "source": [
    "# Load the Breast Cancer Wisconsin (Diagnostic) dataset\n",
    "cancer = load_breast_cancer()"
   ]
  },
  {
   "cell_type": "code",
   "execution_count": 120,
   "id": "ad4c1583",
   "metadata": {},
   "outputs": [],
   "source": [
    "# Separate features and target variable\n",
    "X = cancer.data\n",
    "y = cancer.target"
   ]
  },
  {
   "cell_type": "code",
   "execution_count": 121,
   "id": "23f2a9dd",
   "metadata": {},
   "outputs": [],
   "source": [
    "# Split the data into training and testing sets\n",
    "X_train, X_test, y_train, y_test = train_test_split(X, y, test_size=0.2, random_state=42)"
   ]
  },
  {
   "cell_type": "code",
   "execution_count": 122,
   "id": "77d7ab07",
   "metadata": {},
   "outputs": [],
   "source": [
    "# Scale the features\n",
    "scaler = StandardScaler()\n",
    "X_train = scaler.fit_transform(X_train)\n",
    "X_test = scaler.transform(X_test)"
   ]
  },
  {
   "cell_type": "code",
   "execution_count": 123,
   "id": "f608209e",
   "metadata": {},
   "outputs": [],
   "source": [
    "# Define the model\n",
    "model = Sequential()\n",
    "model.add(Dense(2, activation='softmax', input_shape=(30,)))"
   ]
  },
  {
   "cell_type": "code",
   "execution_count": 124,
   "id": "d3c728b9",
   "metadata": {},
   "outputs": [],
   "source": [
    "# Compile the model\n",
    "model.compile(optimizer='adam', loss='categorical_crossentropy', metrics=['accuracy'])"
   ]
  },
  {
   "cell_type": "code",
   "execution_count": 125,
   "id": "f196dcb6",
   "metadata": {},
   "outputs": [],
   "source": [
    "# Initialize lists to store epoch numbers, losses, and accuracies\n",
    "epoch_nums = []\n",
    "train_losses = []\n",
    "train_accuracies = []"
   ]
  },
  {
   "cell_type": "code",
   "execution_count": 126,
   "id": "4883bed6",
   "metadata": {},
   "outputs": [
    {
     "name": "stdout",
     "output_type": "stream",
     "text": [
      "Epoch: 1\n",
      "Train Loss: 1.0113829374313354\n",
      "Train Accuracy: 0.3780219852924347\n",
      "Epoch: 2\n",
      "Train Loss: 0.8143518567085266\n",
      "Train Accuracy: 0.5032967329025269\n",
      "Epoch: 3\n",
      "Train Loss: 0.6694221496582031\n",
      "Train Accuracy: 0.6461538672447205\n",
      "Epoch: 4\n",
      "Train Loss: 0.5649010539054871\n",
      "Train Accuracy: 0.7230769395828247\n",
      "Epoch: 5\n",
      "Train Loss: 0.4873887896537781\n",
      "Train Accuracy: 0.8087912201881409\n",
      "Epoch: 6\n",
      "Train Loss: 0.4304758310317993\n",
      "Train Accuracy: 0.8505494594573975\n",
      "Epoch: 7\n",
      "Train Loss: 0.3847169876098633\n",
      "Train Accuracy: 0.8725274801254272\n",
      "Epoch: 8\n",
      "Train Loss: 0.3494572937488556\n",
      "Train Accuracy: 0.892307698726654\n",
      "Epoch: 9\n",
      "Train Loss: 0.32037466764450073\n",
      "Train Accuracy: 0.9054945111274719\n",
      "Epoch: 10\n",
      "Train Loss: 0.29578256607055664\n",
      "Train Accuracy: 0.9098901152610779\n",
      "Epoch: 11\n",
      "Train Loss: 0.27605825662612915\n",
      "Train Accuracy: 0.9164835214614868\n",
      "Epoch: 12\n",
      "Train Loss: 0.2583741843700409\n",
      "Train Accuracy: 0.9274725317955017\n",
      "Epoch: 13\n",
      "Train Loss: 0.24309371411800385\n",
      "Train Accuracy: 0.9340659379959106\n",
      "Epoch: 14\n",
      "Train Loss: 0.23059388995170593\n",
      "Train Accuracy: 0.9406593441963196\n",
      "Epoch: 15\n",
      "Train Loss: 0.21889755129814148\n",
      "Train Accuracy: 0.9472527503967285\n",
      "Epoch: 16\n",
      "Train Loss: 0.20847611129283905\n",
      "Train Accuracy: 0.9472527503967285\n",
      "Epoch: 17\n",
      "Train Loss: 0.19943101704120636\n",
      "Train Accuracy: 0.9494505524635315\n",
      "Epoch: 18\n",
      "Train Loss: 0.19037412106990814\n",
      "Train Accuracy: 0.9516483545303345\n",
      "Epoch: 19\n",
      "Train Loss: 0.1830763816833496\n",
      "Train Accuracy: 0.9582417607307434\n",
      "Epoch: 20\n",
      "Train Loss: 0.17662988603115082\n",
      "Train Accuracy: 0.9604395627975464\n",
      "Epoch: 21\n",
      "Train Loss: 0.17103776335716248\n",
      "Train Accuracy: 0.9604395627975464\n",
      "Epoch: 22\n",
      "Train Loss: 0.16556791961193085\n",
      "Train Accuracy: 0.9626373648643494\n",
      "Epoch: 23\n",
      "Train Loss: 0.16055524349212646\n",
      "Train Accuracy: 0.9648351669311523\n",
      "Epoch: 24\n",
      "Train Loss: 0.15598325431346893\n",
      "Train Accuracy: 0.9648351669311523\n",
      "Epoch: 25\n",
      "Train Loss: 0.15178750455379486\n",
      "Train Accuracy: 0.9670329689979553\n",
      "Epoch: 26\n",
      "Train Loss: 0.14750036597251892\n",
      "Train Accuracy: 0.9670329689979553\n",
      "Epoch: 27\n",
      "Train Loss: 0.14385676383972168\n",
      "Train Accuracy: 0.9670329689979553\n",
      "Epoch: 28\n",
      "Train Loss: 0.14058272540569305\n",
      "Train Accuracy: 0.9692307710647583\n",
      "Epoch: 29\n",
      "Train Loss: 0.13748271763324738\n",
      "Train Accuracy: 0.9692307710647583\n",
      "Epoch: 30\n",
      "Train Loss: 0.1345190703868866\n",
      "Train Accuracy: 0.9692307710647583\n",
      "Epoch: 31\n",
      "Train Loss: 0.13187886774539948\n",
      "Train Accuracy: 0.9692307710647583\n",
      "Epoch: 32\n",
      "Train Loss: 0.1294793039560318\n",
      "Train Accuracy: 0.9692307710647583\n",
      "Epoch: 33\n",
      "Train Loss: 0.1271006017923355\n",
      "Train Accuracy: 0.9692307710647583\n",
      "Epoch: 34\n",
      "Train Loss: 0.12481024116277695\n",
      "Train Accuracy: 0.9692307710647583\n",
      "Epoch: 35\n",
      "Train Loss: 0.12263099104166031\n",
      "Train Accuracy: 0.9714285731315613\n",
      "Epoch: 36\n",
      "Train Loss: 0.12055420875549316\n",
      "Train Accuracy: 0.9714285731315613\n",
      "Epoch: 37\n",
      "Train Loss: 0.1185918003320694\n",
      "Train Accuracy: 0.9714285731315613\n",
      "Epoch: 38\n",
      "Train Loss: 0.1168796494603157\n",
      "Train Accuracy: 0.9714285731315613\n",
      "Epoch: 39\n",
      "Train Loss: 0.11505434662103653\n",
      "Train Accuracy: 0.9714285731315613\n",
      "Epoch: 40\n",
      "Train Loss: 0.11343551427125931\n",
      "Train Accuracy: 0.9714285731315613\n",
      "Epoch: 41\n",
      "Train Loss: 0.11183508485555649\n",
      "Train Accuracy: 0.9714285731315613\n",
      "Epoch: 42\n",
      "Train Loss: 0.11038096249103546\n",
      "Train Accuracy: 0.9714285731315613\n",
      "Epoch: 43\n",
      "Train Loss: 0.10888024419546127\n",
      "Train Accuracy: 0.9714285731315613\n",
      "Epoch: 44\n",
      "Train Loss: 0.10760754346847534\n",
      "Train Accuracy: 0.9714285731315613\n",
      "Epoch: 45\n",
      "Train Loss: 0.10628946125507355\n",
      "Train Accuracy: 0.9736263751983643\n",
      "Epoch: 46\n",
      "Train Loss: 0.10501407831907272\n",
      "Train Accuracy: 0.9736263751983643\n",
      "Epoch: 47\n",
      "Train Loss: 0.10380767285823822\n",
      "Train Accuracy: 0.9736263751983643\n",
      "Epoch: 48\n",
      "Train Loss: 0.1025976687669754\n",
      "Train Accuracy: 0.9736263751983643\n",
      "Epoch: 49\n",
      "Train Loss: 0.10150124132633209\n",
      "Train Accuracy: 0.9736263751983643\n",
      "Epoch: 50\n",
      "Train Loss: 0.10045340657234192\n",
      "Train Accuracy: 0.9736263751983643\n"
     ]
    }
   ],
   "source": [
    "# Train the model\n",
    "for epoch in range(50):\n",
    "    # Perform one forward pass and backward pass on the training data\n",
    "    history = model.fit(X_train, tf.keras.utils.to_categorical(y_train, 2), epochs=1, batch_size=32, verbose=0)\n",
    "    \n",
    "    # Evaluate the model on the training data\n",
    "    train_loss, train_accuracy = model.evaluate(X_train, tf.keras.utils.to_categorical(y_train, 2), verbose=0)\n",
    "    \n",
    "    # Store the results for visualization\n",
    "    epoch_nums.append(epoch + 1)\n",
    "    train_losses.append(train_loss)\n",
    "    train_accuracies.append(train_accuracy)\n",
    "    \n",
    "    # Print the epoch number, train loss, and train accuracy\n",
    "    print(\"Epoch:\", epoch + 1)\n",
    "    print(\"Train Loss:\", train_loss)\n",
    "    print(\"Train Accuracy:\", train_accuracy)"
   ]
  },
  {
   "cell_type": "code",
   "execution_count": 128,
   "id": "d7449a2b",
   "metadata": {},
   "outputs": [
    {
     "name": "stdout",
     "output_type": "stream",
     "text": [
      "4/4 [==============================] - 0s 7ms/step\n"
     ]
    }
   ],
   "source": [
    "# Evaluate the model\n",
    "test_loss, test_accuracy = model.evaluate(X_test, tf.keras.utils.to_categorical(y_test, 2), verbose=0)\n",
    "y_pred = np.argmax(model.predict(X_test), axis=1)\n",
    "f1 = f1_score(y_test, y_pred)"
   ]
  },
  {
   "cell_type": "code",
   "execution_count": 129,
   "id": "7c8a5797",
   "metadata": {},
   "outputs": [
    {
     "name": "stdout",
     "output_type": "stream",
     "text": [
      "Test Loss: 0.08879519253969193\n",
      "Test Accuracy: 0.9649122953414917\n",
      "F1-Score: 0.9722222222222222\n"
     ]
    }
   ],
   "source": [
    "# Print the results\n",
    "print(\"Test Loss:\", test_loss)\n",
    "print(\"Test Accuracy:\", test_accuracy)\n",
    "print(\"F1-Score:\", f1)"
   ]
  },
  {
   "cell_type": "code",
   "execution_count": 130,
   "id": "31445514",
   "metadata": {},
   "outputs": [
    {
     "name": "stdout",
     "output_type": "stream",
     "text": [
      "Layer 1 Weights: [array([[-0.16793253,  0.03120785],\n",
      "       [ 0.50715166,  0.0329132 ],\n",
      "       [ 0.09760094, -0.11275725],\n",
      "       [ 0.18383671,  0.01623541],\n",
      "       [ 0.02887167, -0.34897432],\n",
      "       [-0.10013442,  0.3019098 ],\n",
      "       [ 0.16928007, -0.4494831 ],\n",
      "       [ 0.6087177 , -0.1081849 ],\n",
      "       [-0.16378966,  0.08158503],\n",
      "       [ 0.10597698,  0.20026544],\n",
      "       [ 0.41691613, -0.16441017],\n",
      "       [-0.3594631 , -0.08728939],\n",
      "       [ 0.3153928 , -0.42699254],\n",
      "       [ 0.13121004, -0.17815626],\n",
      "       [-0.23754185, -0.15658417],\n",
      "       [-0.23021711,  0.205553  ],\n",
      "       [-0.07982615, -0.10885046],\n",
      "       [ 0.11473496,  0.21004666],\n",
      "       [ 0.08914617, -0.104909  ],\n",
      "       [ 0.05510001,  0.5359733 ],\n",
      "       [-0.08573683, -0.5979299 ],\n",
      "       [ 0.43304667, -0.21160285],\n",
      "       [ 0.04734026,  0.10056255],\n",
      "       [-0.1826064 , -0.6234969 ],\n",
      "       [-0.17683902, -0.15040596],\n",
      "       [-0.24983835, -0.44847223],\n",
      "       [ 0.27788568, -0.21326913],\n",
      "       [ 0.61337876, -0.5878231 ],\n",
      "       [ 0.0365953 , -0.03587674],\n",
      "       [ 0.3079354 ,  0.01954064]], dtype=float32), array([-0.24438491,  0.24438493], dtype=float32)]\n"
     ]
    }
   ],
   "source": [
    "# Print the final parameters\n",
    "for i, layer in enumerate(model.layers):\n",
    "    print(\"Layer\", i+1, \"Weights:\", layer.get_weights())"
   ]
  },
  {
   "cell_type": "code",
   "execution_count": 131,
   "id": "fb9434c8",
   "metadata": {},
   "outputs": [
    {
     "data": {
      "image/png": "[encoded data removed]",
      "text/plain": [
       "<Figure size 640x480 with 1 Axes>"
      ]
     },
     "metadata": {},
     "output_type": "display_data"
    }
   ],
   "source": [
    "# Plot the loss function vs. epochs\n",
    "plt.plot(epoch_nums, train_losses)\n",
    "plt.title('Loss Function')\n",
    "plt.xlabel('Epochs')\n",
    "plt.ylabel('Loss')\n",
    "plt.show()"
   ]
  },
  {
   "cell_type": "code",
   "execution_count": 132,
   "id": "71a1f6d2",
   "metadata": {},
   "outputs": [
    {
     "data": {
      "image/png": "[encoded data removed]",
      "text/plain": [
       "<Figure size 640x480 with 1 Axes>"
      ]
     },
     "metadata": {},
     "output_type": "display_data"
    }
   ],
   "source": [
    "# Plot the training accuracy vs. epochs\n",
    "plt.plot(epoch_nums, train_accuracies)\n",
    "plt.title('Training Accuracy')\n",
    "plt.xlabel('Epochs')\n",
    "plt.ylabel('Accuracy')\n",
    "plt.show()"
   ]
  },
  {
   "cell_type": "code",
   "execution_count": 133,
   "id": "581e4f6a",
   "metadata": {},
   "outputs": [
    {
     "name": "stdout",
     "output_type": "stream",
     "text": [
      "4/4 [==============================] - 0s 4ms/step\n"
     ]
    }
   ],
   "source": [
    "# Generate predictions on the test set\n",
    "y_pred_prob = model.predict(X_test)[:, 1]"
   ]
  },
  {
   "cell_type": "code",
   "execution_count": 134,
   "id": "73496cfc",
   "metadata": {},
   "outputs": [
    {
     "data": {
      "image/png": "[encoded data removed]",
      "text/plain": [
       "<Figure size 640x480 with 1 Axes>"
      ]
     },
     "metadata": {},
     "output_type": "display_data"
    }
   ],
   "source": [
    "# Plot the ROC curve\n",
    "from sklearn.metrics import roc_curve, auc\n",
    "fpr, tpr, thresholds = roc_curve(y_test, y_pred_prob)\n",
    "roc_auc = auc(fpr, tpr)\n",
    "\n",
    "plt.plot(fpr, tpr, label='ROC curve (area = %0.2f)' % roc_auc)\n",
    "plt.plot([0, 1], [0, 1], 'k--')\n",
    "plt.xlim([0.0, 1.0])\n",
    "plt.ylim([0.0, 1.05])\n",
    "plt.xlabel('False Positive Rate')\n",
    "plt.ylabel('True Positive Rate')\n",
    "plt.title('Receiver Operating Characteristic')\n",
    "plt.legend(loc=\"lower right\")\n",
    "plt.show()"
   ]
  },
  {
   "cell_type": "code",
   "execution_count": 135,
   "id": "806d3918",
   "metadata": {
    "scrolled": false
   },
   "outputs": [
    {
     "name": "stdout",
     "output_type": "stream",
     "text": [
      "Misclassified Sample 1\n",
      "True Label: 0\n",
      "Predicted Label: 1\n",
      "Features: [-0.08993252 -0.79671034 -0.05977463 -0.19821465  0.35634783  0.4651665\n",
      " -0.13867567  0.06339385 -0.54261701  0.40312655 -0.43597673 -1.07582927\n",
      " -0.435613   -0.35438207 -0.74409507 -0.26823247 -0.47441781 -0.42752674\n",
      " -1.02579279 -0.24800235  0.06968337 -0.77176511  0.09589304 -0.11390033\n",
      "  0.41496361  0.65522912  0.01580277  0.369597   -0.50097175  1.07313539]\n",
      "---------\n",
      "Misclassified Sample 2\n",
      "True Label: 0\n",
      "Predicted Label: 1\n",
      "Features: [-0.04463148 -0.5010269  -0.01861438 -0.14660035  0.99628119  0.46325857\n",
      "  0.11327535  0.10995031  0.35332661 -0.20227891  0.08125937 -0.72601977\n",
      " -0.14270817 -0.09179518 -0.20896683  0.06211843 -0.05087698  0.24272529\n",
      "  0.00569498 -0.4042485   0.03223001 -0.57204371  0.02990222 -0.0899165\n",
      "  0.85300607  0.47440179  0.22137928  0.3558048   0.25835983 -0.24106908]\n",
      "---------\n",
      "Misclassified Sample 3\n",
      "True Label: 0\n",
      "Predicted Label: 1\n",
      "Features: [ 0.1025969   0.53386514  0.09745752 -0.01742358 -0.0937626  -0.07916612\n",
      "  0.39684622  0.0289368   0.96154849 -0.88821996  0.0649963   1.87990398\n",
      "  0.21399772 -0.02545967  0.77941568  0.22567979  0.65045681  0.90916003\n",
      "  0.44181095 -0.20525916 -0.00522335  0.61307992  0.03890096 -0.12007264\n",
      " -0.04042706 -0.35611232  0.28831117  0.12746721  0.18226815 -0.86423646]\n",
      "---------\n",
      "Misclassified Sample 4\n",
      "True Label: 1\n",
      "Predicted Label: 0\n",
      "Features: [ 0.02898271  2.0334026   0.0274851  -0.0859606  -0.97169365  0.00535521\n",
      "  0.26961096 -0.11046955 -1.70807212 -0.20366745 -0.23551681  2.07208669\n",
      " -0.36407848 -0.21429334 -0.22337665  0.15143154  0.17677622 -0.28374225\n",
      " -1.06866936 -0.08313574 -0.1009375   2.47659605 -0.13807443 -0.19925456\n",
      " -1.01626422 -0.06549697  0.15205697 -0.49027026 -1.60905688 -0.33137507]\n",
      "---------\n"
     ]
    }
   ],
   "source": [
    "# Visualize a few examples of misclassified samples\n",
    "misclassified_indices = np.where(y_test != y_pred)[0][:5]\n",
    "misclassified_samples = X_test[misclassified_indices]\n",
    "misclassified_labels = y_test[misclassified_indices]\n",
    "misclassified_pred = y_pred[misclassified_indices]\n",
    "\n",
    "for i, sample in enumerate(misclassified_samples):\n",
    "    print(\"Misclassified Sample\", i + 1)\n",
    "    print(\"True Label:\", misclassified_labels[i])\n",
    "    print(\"Predicted Label:\", misclassified_pred[i])\n",
    "    print(\"Features:\", sample)\n",
    "    print(\"---------\")"
   ]
  },
  {
   "cell_type": "code",
   "execution_count": null,
   "id": "1169e004",
   "metadata": {},
   "outputs": [],
   "source": []
  },
  {
   "cell_type": "code",
   "execution_count": null,
   "id": "0274096d",
   "metadata": {},
   "outputs": [],
   "source": []
  }
 ],
 "metadata": {
  "kernelspec": {
   "display_name": "Python 3 (ipykernel)",
   "language": "python",
   "name": "python3"
  },
  "language_info": {
   "codemirror_mode": {
    "name": "ipython",
    "version": 3
   },
   "file_extension": ".py",
   "mimetype": "text/x-python",
   "name": "python",
   "nbconvert_exporter": "python",
   "pygments_lexer": "ipython3",
   "version": "3.10.9"
  }
 },
 "nbformat": 4,
 "nbformat_minor": 5
}
